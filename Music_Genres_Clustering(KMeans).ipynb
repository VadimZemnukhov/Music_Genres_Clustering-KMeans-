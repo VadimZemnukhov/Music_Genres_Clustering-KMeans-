{
 "cells": [
  {
   "cell_type": "markdown",
   "metadata": {
    "id": "rZOA7MoXtA-e"
   },
   "source": [
    "# Кластеризация исполнителей по жанрам\n",
    "### Выполнил: Земнухов Вадим Тимофеевич"
   ]
  },
  {
   "cell_type": "markdown",
   "metadata": {
    "id": "kabxpe1rpmPc"
   },
   "source": [
    "В данной работе нам необходимо кластеризовать исполнителей по 5 жанрам на основе данных о прослушивании.\n",
    "\n",
    "В матрице sample_matrix по строкам стоят пользователи, а по столбцам - исполнители.\n",
    "\n",
    "Для каждой пары (пользователь, исполнитель) в таблице стоит число - доля (процент) прослушивания этого исполнителя выбранным пользователем."
   ]
  },
  {
   "cell_type": "markdown",
   "metadata": {
    "id": "wF3gCvLCtYyv"
   },
   "source": [
    "## Загрузка данных"
   ]
  },
  {
   "cell_type": "code",
   "execution_count": 90,
   "metadata": {
    "id": "uprlaM05NGvI"
   },
   "outputs": [],
   "source": [
    "import pandas as pd\n",
    "import numpy as np"
   ]
  },
  {
   "cell_type": "code",
   "execution_count": 52,
   "metadata": {
    "id": "BeE8Io3_uhi3"
   },
   "outputs": [],
   "source": [
    "ratings = pd.read_excel(\"https://github.com/evgpat/edu_stepik_rec_sys/blob/main/datasets/sample_matrix.xlsx?raw=true\", engine='openpyxl')"
   ]
  },
  {
   "cell_type": "code",
   "execution_count": 53,
   "metadata": {
    "colab": {
     "base_uri": "https://localhost:8080/",
     "height": 297
    },
    "id": "ZD0jf_i1Oy5d",
    "outputId": "e4f54839-20dc-4c19-a671-e1be5490fad6",
    "scrolled": true
   },
   "outputs": [
    {
     "data": {
      "text/html": [
       "<div>\n",
       "<style scoped>\n",
       "    .dataframe tbody tr th:only-of-type {\n",
       "        vertical-align: middle;\n",
       "    }\n",
       "\n",
       "    .dataframe tbody tr th {\n",
       "        vertical-align: top;\n",
       "    }\n",
       "\n",
       "    .dataframe thead th {\n",
       "        text-align: right;\n",
       "    }\n",
       "</style>\n",
       "<table border=\"1\" class=\"dataframe\">\n",
       "  <thead>\n",
       "    <tr style=\"text-align: right;\">\n",
       "      <th></th>\n",
       "      <th>user</th>\n",
       "      <th>the beatles</th>\n",
       "      <th>radiohead</th>\n",
       "      <th>deathcab for cutie</th>\n",
       "      <th>coldplay</th>\n",
       "      <th>modest mouse</th>\n",
       "      <th>sufjan stevens</th>\n",
       "      <th>dylan. bob</th>\n",
       "      <th>red hot clili peppers</th>\n",
       "      <th>pink fluid</th>\n",
       "      <th>...</th>\n",
       "      <th>municipal waste</th>\n",
       "      <th>townes van zandt</th>\n",
       "      <th>curtis mayfield</th>\n",
       "      <th>jewel</th>\n",
       "      <th>lamb</th>\n",
       "      <th>michal w. smith</th>\n",
       "      <th>群星</th>\n",
       "      <th>agalloch</th>\n",
       "      <th>meshuggah</th>\n",
       "      <th>yellowcard</th>\n",
       "    </tr>\n",
       "  </thead>\n",
       "  <tbody>\n",
       "    <tr>\n",
       "      <th>0</th>\n",
       "      <td>0</td>\n",
       "      <td>NaN</td>\n",
       "      <td>0.020417</td>\n",
       "      <td>NaN</td>\n",
       "      <td>NaN</td>\n",
       "      <td>NaN</td>\n",
       "      <td>NaN</td>\n",
       "      <td>NaN</td>\n",
       "      <td>0.030496</td>\n",
       "      <td>NaN</td>\n",
       "      <td>...</td>\n",
       "      <td>NaN</td>\n",
       "      <td>NaN</td>\n",
       "      <td>NaN</td>\n",
       "      <td>NaN</td>\n",
       "      <td>NaN</td>\n",
       "      <td>NaN</td>\n",
       "      <td>NaN</td>\n",
       "      <td>NaN</td>\n",
       "      <td>NaN</td>\n",
       "      <td>NaN</td>\n",
       "    </tr>\n",
       "    <tr>\n",
       "      <th>1</th>\n",
       "      <td>1</td>\n",
       "      <td>NaN</td>\n",
       "      <td>0.184962</td>\n",
       "      <td>0.024561</td>\n",
       "      <td>NaN</td>\n",
       "      <td>NaN</td>\n",
       "      <td>0.136341</td>\n",
       "      <td>NaN</td>\n",
       "      <td>NaN</td>\n",
       "      <td>NaN</td>\n",
       "      <td>...</td>\n",
       "      <td>NaN</td>\n",
       "      <td>NaN</td>\n",
       "      <td>NaN</td>\n",
       "      <td>NaN</td>\n",
       "      <td>NaN</td>\n",
       "      <td>NaN</td>\n",
       "      <td>NaN</td>\n",
       "      <td>NaN</td>\n",
       "      <td>NaN</td>\n",
       "      <td>NaN</td>\n",
       "    </tr>\n",
       "    <tr>\n",
       "      <th>2</th>\n",
       "      <td>2</td>\n",
       "      <td>NaN</td>\n",
       "      <td>NaN</td>\n",
       "      <td>0.028635</td>\n",
       "      <td>NaN</td>\n",
       "      <td>NaN</td>\n",
       "      <td>NaN</td>\n",
       "      <td>0.024559</td>\n",
       "      <td>NaN</td>\n",
       "      <td>NaN</td>\n",
       "      <td>...</td>\n",
       "      <td>NaN</td>\n",
       "      <td>NaN</td>\n",
       "      <td>NaN</td>\n",
       "      <td>NaN</td>\n",
       "      <td>NaN</td>\n",
       "      <td>NaN</td>\n",
       "      <td>NaN</td>\n",
       "      <td>NaN</td>\n",
       "      <td>NaN</td>\n",
       "      <td>NaN</td>\n",
       "    </tr>\n",
       "    <tr>\n",
       "      <th>3</th>\n",
       "      <td>3</td>\n",
       "      <td>NaN</td>\n",
       "      <td>NaN</td>\n",
       "      <td>NaN</td>\n",
       "      <td>NaN</td>\n",
       "      <td>NaN</td>\n",
       "      <td>NaN</td>\n",
       "      <td>NaN</td>\n",
       "      <td>NaN</td>\n",
       "      <td>NaN</td>\n",
       "      <td>...</td>\n",
       "      <td>NaN</td>\n",
       "      <td>NaN</td>\n",
       "      <td>NaN</td>\n",
       "      <td>NaN</td>\n",
       "      <td>NaN</td>\n",
       "      <td>NaN</td>\n",
       "      <td>NaN</td>\n",
       "      <td>NaN</td>\n",
       "      <td>NaN</td>\n",
       "      <td>NaN</td>\n",
       "    </tr>\n",
       "    <tr>\n",
       "      <th>4</th>\n",
       "      <td>4</td>\n",
       "      <td>0.043529</td>\n",
       "      <td>0.086281</td>\n",
       "      <td>0.034590</td>\n",
       "      <td>0.016712</td>\n",
       "      <td>0.015935</td>\n",
       "      <td>NaN</td>\n",
       "      <td>NaN</td>\n",
       "      <td>NaN</td>\n",
       "      <td>NaN</td>\n",
       "      <td>...</td>\n",
       "      <td>NaN</td>\n",
       "      <td>NaN</td>\n",
       "      <td>NaN</td>\n",
       "      <td>NaN</td>\n",
       "      <td>NaN</td>\n",
       "      <td>NaN</td>\n",
       "      <td>NaN</td>\n",
       "      <td>NaN</td>\n",
       "      <td>NaN</td>\n",
       "      <td>NaN</td>\n",
       "    </tr>\n",
       "  </tbody>\n",
       "</table>\n",
       "<p>5 rows × 1001 columns</p>\n",
       "</div>"
      ],
      "text/plain": [
       "   user  the beatles  radiohead  deathcab for cutie  coldplay  modest mouse  \\\n",
       "0     0          NaN   0.020417                 NaN       NaN           NaN   \n",
       "1     1          NaN   0.184962            0.024561       NaN           NaN   \n",
       "2     2          NaN        NaN            0.028635       NaN           NaN   \n",
       "3     3          NaN        NaN                 NaN       NaN           NaN   \n",
       "4     4     0.043529   0.086281            0.034590  0.016712      0.015935   \n",
       "\n",
       "   sufjan stevens  dylan. bob  red hot clili peppers  pink fluid  ...  \\\n",
       "0             NaN         NaN               0.030496         NaN  ...   \n",
       "1        0.136341         NaN                    NaN         NaN  ...   \n",
       "2             NaN    0.024559                    NaN         NaN  ...   \n",
       "3             NaN         NaN                    NaN         NaN  ...   \n",
       "4             NaN         NaN                    NaN         NaN  ...   \n",
       "\n",
       "   municipal waste  townes van zandt  curtis mayfield  jewel  lamb  \\\n",
       "0              NaN               NaN              NaN    NaN   NaN   \n",
       "1              NaN               NaN              NaN    NaN   NaN   \n",
       "2              NaN               NaN              NaN    NaN   NaN   \n",
       "3              NaN               NaN              NaN    NaN   NaN   \n",
       "4              NaN               NaN              NaN    NaN   NaN   \n",
       "\n",
       "   michal w. smith  群星  agalloch  meshuggah  yellowcard  \n",
       "0              NaN NaN       NaN        NaN         NaN  \n",
       "1              NaN NaN       NaN        NaN         NaN  \n",
       "2              NaN NaN       NaN        NaN         NaN  \n",
       "3              NaN NaN       NaN        NaN         NaN  \n",
       "4              NaN NaN       NaN        NaN         NaN  \n",
       "\n",
       "[5 rows x 1001 columns]"
      ]
     },
     "execution_count": 53,
     "metadata": {},
     "output_type": "execute_result"
    }
   ],
   "source": [
    "ratings.head()"
   ]
  },
  {
   "cell_type": "markdown",
   "metadata": {
    "id": "WqKY6bd2vfGK"
   },
   "source": [
    "## Предобработка данных и построение модели"
   ]
  },
  {
   "cell_type": "markdown",
   "metadata": {
    "id": "pHTPXIEvp_9f"
   },
   "source": [
    "Транспонируем матрицу ratings, чтобы по строкам стояли исполнители."
   ]
  },
  {
   "cell_type": "code",
   "execution_count": 54,
   "metadata": {},
   "outputs": [
    {
     "data": {
      "text/plain": [
       "(5000, 1001)"
      ]
     },
     "execution_count": 54,
     "metadata": {},
     "output_type": "execute_result"
    }
   ],
   "source": [
    "ratings.shape"
   ]
  },
  {
   "cell_type": "code",
   "execution_count": 55,
   "metadata": {},
   "outputs": [
    {
     "data": {
      "text/plain": [
       "5000"
      ]
     },
     "execution_count": 55,
     "metadata": {},
     "output_type": "execute_result"
    }
   ],
   "source": [
    "len(ratings['user'].unique())"
   ]
  },
  {
   "cell_type": "markdown",
   "metadata": {},
   "source": [
    "Все значения фичи 'user' уникальные, поэтому её можно удалить."
   ]
  },
  {
   "cell_type": "code",
   "execution_count": 56,
   "metadata": {},
   "outputs": [],
   "source": [
    "ratings = ratings.drop('user', axis = 1)"
   ]
  },
  {
   "cell_type": "code",
   "execution_count": 57,
   "metadata": {
    "id": "BfKDPzjoPxKE"
   },
   "outputs": [],
   "source": [
    "ratings = ratings.T"
   ]
  },
  {
   "cell_type": "markdown",
   "metadata": {
    "id": "rxxnjpNVqJYN"
   },
   "source": [
    "Заполним пропуски нулями."
   ]
  },
  {
   "cell_type": "code",
   "execution_count": 58,
   "metadata": {
    "id": "iKduzcA2OiFV"
   },
   "outputs": [],
   "source": [
    "ratings = ratings.fillna(0)"
   ]
  },
  {
   "cell_type": "markdown",
   "metadata": {
    "id": "j3ca2KiJqL9J"
   },
   "source": [
    "Нормализуем данные при помощи `normalize`."
   ]
  },
  {
   "cell_type": "code",
   "execution_count": 59,
   "metadata": {},
   "outputs": [
    {
     "data": {
      "text/html": [
       "<div>\n",
       "<style scoped>\n",
       "    .dataframe tbody tr th:only-of-type {\n",
       "        vertical-align: middle;\n",
       "    }\n",
       "\n",
       "    .dataframe tbody tr th {\n",
       "        vertical-align: top;\n",
       "    }\n",
       "\n",
       "    .dataframe thead th {\n",
       "        text-align: right;\n",
       "    }\n",
       "</style>\n",
       "<table border=\"1\" class=\"dataframe\">\n",
       "  <thead>\n",
       "    <tr style=\"text-align: right;\">\n",
       "      <th></th>\n",
       "      <th>0</th>\n",
       "      <th>1</th>\n",
       "      <th>2</th>\n",
       "      <th>3</th>\n",
       "      <th>4</th>\n",
       "      <th>5</th>\n",
       "      <th>6</th>\n",
       "      <th>7</th>\n",
       "      <th>8</th>\n",
       "      <th>9</th>\n",
       "      <th>...</th>\n",
       "      <th>4990</th>\n",
       "      <th>4991</th>\n",
       "      <th>4992</th>\n",
       "      <th>4993</th>\n",
       "      <th>4994</th>\n",
       "      <th>4995</th>\n",
       "      <th>4996</th>\n",
       "      <th>4997</th>\n",
       "      <th>4998</th>\n",
       "      <th>4999</th>\n",
       "    </tr>\n",
       "  </thead>\n",
       "  <tbody>\n",
       "    <tr>\n",
       "      <th>the beatles</th>\n",
       "      <td>0.000000</td>\n",
       "      <td>0.000000</td>\n",
       "      <td>0.000000</td>\n",
       "      <td>0.0</td>\n",
       "      <td>0.043529</td>\n",
       "      <td>0.000000</td>\n",
       "      <td>0.0</td>\n",
       "      <td>0.0</td>\n",
       "      <td>0.093398</td>\n",
       "      <td>0.017621</td>\n",
       "      <td>...</td>\n",
       "      <td>0.000000</td>\n",
       "      <td>0.0</td>\n",
       "      <td>0.121169</td>\n",
       "      <td>0.038168</td>\n",
       "      <td>0.007939</td>\n",
       "      <td>0.017884</td>\n",
       "      <td>0.0</td>\n",
       "      <td>0.076923</td>\n",
       "      <td>0.0</td>\n",
       "      <td>0.000000</td>\n",
       "    </tr>\n",
       "    <tr>\n",
       "      <th>radiohead</th>\n",
       "      <td>0.020417</td>\n",
       "      <td>0.184962</td>\n",
       "      <td>0.000000</td>\n",
       "      <td>0.0</td>\n",
       "      <td>0.086281</td>\n",
       "      <td>0.006322</td>\n",
       "      <td>0.0</td>\n",
       "      <td>0.0</td>\n",
       "      <td>0.000000</td>\n",
       "      <td>0.019156</td>\n",
       "      <td>...</td>\n",
       "      <td>0.017735</td>\n",
       "      <td>0.0</td>\n",
       "      <td>0.000000</td>\n",
       "      <td>0.000000</td>\n",
       "      <td>0.011187</td>\n",
       "      <td>0.000000</td>\n",
       "      <td>0.0</td>\n",
       "      <td>0.000000</td>\n",
       "      <td>0.0</td>\n",
       "      <td>0.000000</td>\n",
       "    </tr>\n",
       "    <tr>\n",
       "      <th>deathcab for cutie</th>\n",
       "      <td>0.000000</td>\n",
       "      <td>0.024561</td>\n",
       "      <td>0.028635</td>\n",
       "      <td>0.0</td>\n",
       "      <td>0.034590</td>\n",
       "      <td>0.000000</td>\n",
       "      <td>0.0</td>\n",
       "      <td>0.0</td>\n",
       "      <td>0.000000</td>\n",
       "      <td>0.013349</td>\n",
       "      <td>...</td>\n",
       "      <td>0.121344</td>\n",
       "      <td>0.0</td>\n",
       "      <td>0.000000</td>\n",
       "      <td>0.000000</td>\n",
       "      <td>0.000000</td>\n",
       "      <td>0.000000</td>\n",
       "      <td>0.0</td>\n",
       "      <td>0.000000</td>\n",
       "      <td>0.0</td>\n",
       "      <td>0.027893</td>\n",
       "    </tr>\n",
       "    <tr>\n",
       "      <th>coldplay</th>\n",
       "      <td>0.000000</td>\n",
       "      <td>0.000000</td>\n",
       "      <td>0.000000</td>\n",
       "      <td>0.0</td>\n",
       "      <td>0.016712</td>\n",
       "      <td>0.000000</td>\n",
       "      <td>0.0</td>\n",
       "      <td>0.0</td>\n",
       "      <td>0.000000</td>\n",
       "      <td>0.000000</td>\n",
       "      <td>...</td>\n",
       "      <td>0.217175</td>\n",
       "      <td>0.0</td>\n",
       "      <td>0.000000</td>\n",
       "      <td>0.000000</td>\n",
       "      <td>0.000000</td>\n",
       "      <td>0.000000</td>\n",
       "      <td>0.0</td>\n",
       "      <td>0.000000</td>\n",
       "      <td>0.0</td>\n",
       "      <td>0.000000</td>\n",
       "    </tr>\n",
       "    <tr>\n",
       "      <th>modest mouse</th>\n",
       "      <td>0.000000</td>\n",
       "      <td>0.000000</td>\n",
       "      <td>0.000000</td>\n",
       "      <td>0.0</td>\n",
       "      <td>0.015935</td>\n",
       "      <td>0.000000</td>\n",
       "      <td>0.0</td>\n",
       "      <td>0.0</td>\n",
       "      <td>0.000000</td>\n",
       "      <td>0.030437</td>\n",
       "      <td>...</td>\n",
       "      <td>0.000000</td>\n",
       "      <td>0.0</td>\n",
       "      <td>0.000000</td>\n",
       "      <td>0.000000</td>\n",
       "      <td>0.000000</td>\n",
       "      <td>0.000000</td>\n",
       "      <td>0.0</td>\n",
       "      <td>0.000000</td>\n",
       "      <td>0.0</td>\n",
       "      <td>0.000000</td>\n",
       "    </tr>\n",
       "  </tbody>\n",
       "</table>\n",
       "<p>5 rows × 5000 columns</p>\n",
       "</div>"
      ],
      "text/plain": [
       "                        0         1         2     3         4         5     \\\n",
       "the beatles         0.000000  0.000000  0.000000   0.0  0.043529  0.000000   \n",
       "radiohead           0.020417  0.184962  0.000000   0.0  0.086281  0.006322   \n",
       "deathcab for cutie  0.000000  0.024561  0.028635   0.0  0.034590  0.000000   \n",
       "coldplay            0.000000  0.000000  0.000000   0.0  0.016712  0.000000   \n",
       "modest mouse        0.000000  0.000000  0.000000   0.0  0.015935  0.000000   \n",
       "\n",
       "                    6     7         8         9     ...      4990  4991  \\\n",
       "the beatles          0.0   0.0  0.093398  0.017621  ...  0.000000   0.0   \n",
       "radiohead            0.0   0.0  0.000000  0.019156  ...  0.017735   0.0   \n",
       "deathcab for cutie   0.0   0.0  0.000000  0.013349  ...  0.121344   0.0   \n",
       "coldplay             0.0   0.0  0.000000  0.000000  ...  0.217175   0.0   \n",
       "modest mouse         0.0   0.0  0.000000  0.030437  ...  0.000000   0.0   \n",
       "\n",
       "                        4992      4993      4994      4995  4996      4997  \\\n",
       "the beatles         0.121169  0.038168  0.007939  0.017884   0.0  0.076923   \n",
       "radiohead           0.000000  0.000000  0.011187  0.000000   0.0  0.000000   \n",
       "deathcab for cutie  0.000000  0.000000  0.000000  0.000000   0.0  0.000000   \n",
       "coldplay            0.000000  0.000000  0.000000  0.000000   0.0  0.000000   \n",
       "modest mouse        0.000000  0.000000  0.000000  0.000000   0.0  0.000000   \n",
       "\n",
       "                    4998      4999  \n",
       "the beatles          0.0  0.000000  \n",
       "radiohead            0.0  0.000000  \n",
       "deathcab for cutie   0.0  0.027893  \n",
       "coldplay             0.0  0.000000  \n",
       "modest mouse         0.0  0.000000  \n",
       "\n",
       "[5 rows x 5000 columns]"
      ]
     },
     "execution_count": 59,
     "metadata": {},
     "output_type": "execute_result"
    }
   ],
   "source": [
    "ratings.head(5)"
   ]
  },
  {
   "cell_type": "code",
   "execution_count": 60,
   "metadata": {
    "id": "CVxxov5dqSb2",
    "scrolled": true
   },
   "outputs": [],
   "source": [
    "from sklearn.preprocessing import normalize\n",
    "\n",
    "norm_ratings = normalize(ratings)\n",
    "\n",
    "for i in range(len(norm_ratings)):\n",
    "    ratings.iloc[i] = norm_ratings[i]"
   ]
  },
  {
   "cell_type": "code",
   "execution_count": 61,
   "metadata": {},
   "outputs": [
    {
     "data": {
      "text/html": [
       "<div>\n",
       "<style scoped>\n",
       "    .dataframe tbody tr th:only-of-type {\n",
       "        vertical-align: middle;\n",
       "    }\n",
       "\n",
       "    .dataframe tbody tr th {\n",
       "        vertical-align: top;\n",
       "    }\n",
       "\n",
       "    .dataframe thead th {\n",
       "        text-align: right;\n",
       "    }\n",
       "</style>\n",
       "<table border=\"1\" class=\"dataframe\">\n",
       "  <thead>\n",
       "    <tr style=\"text-align: right;\">\n",
       "      <th></th>\n",
       "      <th>0</th>\n",
       "      <th>1</th>\n",
       "      <th>2</th>\n",
       "      <th>3</th>\n",
       "      <th>4</th>\n",
       "      <th>5</th>\n",
       "      <th>6</th>\n",
       "      <th>7</th>\n",
       "      <th>8</th>\n",
       "      <th>9</th>\n",
       "      <th>...</th>\n",
       "      <th>4990</th>\n",
       "      <th>4991</th>\n",
       "      <th>4992</th>\n",
       "      <th>4993</th>\n",
       "      <th>4994</th>\n",
       "      <th>4995</th>\n",
       "      <th>4996</th>\n",
       "      <th>4997</th>\n",
       "      <th>4998</th>\n",
       "      <th>4999</th>\n",
       "    </tr>\n",
       "  </thead>\n",
       "  <tbody>\n",
       "    <tr>\n",
       "      <th>the beatles</th>\n",
       "      <td>0.000000</td>\n",
       "      <td>0.000000</td>\n",
       "      <td>0.000000</td>\n",
       "      <td>0.0</td>\n",
       "      <td>0.012054</td>\n",
       "      <td>0.000000</td>\n",
       "      <td>0.0</td>\n",
       "      <td>0.0</td>\n",
       "      <td>0.025864</td>\n",
       "      <td>0.004880</td>\n",
       "      <td>...</td>\n",
       "      <td>0.000000</td>\n",
       "      <td>0.0</td>\n",
       "      <td>0.033554</td>\n",
       "      <td>0.010569</td>\n",
       "      <td>0.002199</td>\n",
       "      <td>0.004952</td>\n",
       "      <td>0.0</td>\n",
       "      <td>0.021302</td>\n",
       "      <td>0.0</td>\n",
       "      <td>0.000000</td>\n",
       "    </tr>\n",
       "    <tr>\n",
       "      <th>radiohead</th>\n",
       "      <td>0.009348</td>\n",
       "      <td>0.084688</td>\n",
       "      <td>0.000000</td>\n",
       "      <td>0.0</td>\n",
       "      <td>0.039505</td>\n",
       "      <td>0.002894</td>\n",
       "      <td>0.0</td>\n",
       "      <td>0.0</td>\n",
       "      <td>0.000000</td>\n",
       "      <td>0.008771</td>\n",
       "      <td>...</td>\n",
       "      <td>0.008120</td>\n",
       "      <td>0.0</td>\n",
       "      <td>0.000000</td>\n",
       "      <td>0.000000</td>\n",
       "      <td>0.005122</td>\n",
       "      <td>0.000000</td>\n",
       "      <td>0.0</td>\n",
       "      <td>0.000000</td>\n",
       "      <td>0.0</td>\n",
       "      <td>0.000000</td>\n",
       "    </tr>\n",
       "    <tr>\n",
       "      <th>deathcab for cutie</th>\n",
       "      <td>0.000000</td>\n",
       "      <td>0.017278</td>\n",
       "      <td>0.020144</td>\n",
       "      <td>0.0</td>\n",
       "      <td>0.024333</td>\n",
       "      <td>0.000000</td>\n",
       "      <td>0.0</td>\n",
       "      <td>0.0</td>\n",
       "      <td>0.000000</td>\n",
       "      <td>0.009391</td>\n",
       "      <td>...</td>\n",
       "      <td>0.085361</td>\n",
       "      <td>0.0</td>\n",
       "      <td>0.000000</td>\n",
       "      <td>0.000000</td>\n",
       "      <td>0.000000</td>\n",
       "      <td>0.000000</td>\n",
       "      <td>0.0</td>\n",
       "      <td>0.000000</td>\n",
       "      <td>0.0</td>\n",
       "      <td>0.019622</td>\n",
       "    </tr>\n",
       "    <tr>\n",
       "      <th>coldplay</th>\n",
       "      <td>0.000000</td>\n",
       "      <td>0.000000</td>\n",
       "      <td>0.000000</td>\n",
       "      <td>0.0</td>\n",
       "      <td>0.011129</td>\n",
       "      <td>0.000000</td>\n",
       "      <td>0.0</td>\n",
       "      <td>0.0</td>\n",
       "      <td>0.000000</td>\n",
       "      <td>0.000000</td>\n",
       "      <td>...</td>\n",
       "      <td>0.144628</td>\n",
       "      <td>0.0</td>\n",
       "      <td>0.000000</td>\n",
       "      <td>0.000000</td>\n",
       "      <td>0.000000</td>\n",
       "      <td>0.000000</td>\n",
       "      <td>0.0</td>\n",
       "      <td>0.000000</td>\n",
       "      <td>0.0</td>\n",
       "      <td>0.000000</td>\n",
       "    </tr>\n",
       "    <tr>\n",
       "      <th>modest mouse</th>\n",
       "      <td>0.000000</td>\n",
       "      <td>0.000000</td>\n",
       "      <td>0.000000</td>\n",
       "      <td>0.0</td>\n",
       "      <td>0.010260</td>\n",
       "      <td>0.000000</td>\n",
       "      <td>0.0</td>\n",
       "      <td>0.0</td>\n",
       "      <td>0.000000</td>\n",
       "      <td>0.019597</td>\n",
       "      <td>...</td>\n",
       "      <td>0.000000</td>\n",
       "      <td>0.0</td>\n",
       "      <td>0.000000</td>\n",
       "      <td>0.000000</td>\n",
       "      <td>0.000000</td>\n",
       "      <td>0.000000</td>\n",
       "      <td>0.0</td>\n",
       "      <td>0.000000</td>\n",
       "      <td>0.0</td>\n",
       "      <td>0.000000</td>\n",
       "    </tr>\n",
       "  </tbody>\n",
       "</table>\n",
       "<p>5 rows × 5000 columns</p>\n",
       "</div>"
      ],
      "text/plain": [
       "                        0         1         2     3         4         5     \\\n",
       "the beatles         0.000000  0.000000  0.000000   0.0  0.012054  0.000000   \n",
       "radiohead           0.009348  0.084688  0.000000   0.0  0.039505  0.002894   \n",
       "deathcab for cutie  0.000000  0.017278  0.020144   0.0  0.024333  0.000000   \n",
       "coldplay            0.000000  0.000000  0.000000   0.0  0.011129  0.000000   \n",
       "modest mouse        0.000000  0.000000  0.000000   0.0  0.010260  0.000000   \n",
       "\n",
       "                    6     7         8         9     ...      4990  4991  \\\n",
       "the beatles          0.0   0.0  0.025864  0.004880  ...  0.000000   0.0   \n",
       "radiohead            0.0   0.0  0.000000  0.008771  ...  0.008120   0.0   \n",
       "deathcab for cutie   0.0   0.0  0.000000  0.009391  ...  0.085361   0.0   \n",
       "coldplay             0.0   0.0  0.000000  0.000000  ...  0.144628   0.0   \n",
       "modest mouse         0.0   0.0  0.000000  0.019597  ...  0.000000   0.0   \n",
       "\n",
       "                        4992      4993      4994      4995  4996      4997  \\\n",
       "the beatles         0.033554  0.010569  0.002199  0.004952   0.0  0.021302   \n",
       "radiohead           0.000000  0.000000  0.005122  0.000000   0.0  0.000000   \n",
       "deathcab for cutie  0.000000  0.000000  0.000000  0.000000   0.0  0.000000   \n",
       "coldplay            0.000000  0.000000  0.000000  0.000000   0.0  0.000000   \n",
       "modest mouse        0.000000  0.000000  0.000000  0.000000   0.0  0.000000   \n",
       "\n",
       "                    4998      4999  \n",
       "the beatles          0.0  0.000000  \n",
       "radiohead            0.0  0.000000  \n",
       "deathcab for cutie   0.0  0.019622  \n",
       "coldplay             0.0  0.000000  \n",
       "modest mouse         0.0  0.000000  \n",
       "\n",
       "[5 rows x 5000 columns]"
      ]
     },
     "execution_count": 61,
     "metadata": {},
     "output_type": "execute_result"
    }
   ],
   "source": [
    "ratings.head(5)"
   ]
  },
  {
   "cell_type": "markdown",
   "metadata": {
    "id": "Ne6bESslqUXp"
   },
   "source": [
    "Применим KMeans с 5-ю кластерами на преобразованной матрице."
   ]
  },
  {
   "cell_type": "code",
   "execution_count": 62,
   "metadata": {
    "id": "cP13pV-dNo5s"
   },
   "outputs": [],
   "source": [
    "%matplotlib inline\n",
    "from sklearn.cluster import KMeans\n",
    "import matplotlib.pyplot as plt"
   ]
  },
  {
   "cell_type": "code",
   "execution_count": 76,
   "metadata": {},
   "outputs": [],
   "source": [
    "k_means = KMeans(n_clusters=5)\n",
    "k_means = k_means.fit(ratings)\n",
    "clusters = k_means.predict(ratings)"
   ]
  },
  {
   "cell_type": "code",
   "execution_count": 96,
   "metadata": {},
   "outputs": [],
   "source": [
    "genres, counts = np.unique(clusters, return_counts= True)"
   ]
  },
  {
   "cell_type": "code",
   "execution_count": 135,
   "metadata": {},
   "outputs": [
    {
     "data": {
      "image/png": "[encoded data removed]",
      "text/plain": [
       "<Figure size 864x432 with 1 Axes>"
      ]
     },
     "metadata": {
      "needs_background": "light"
     },
     "output_type": "display_data"
    }
   ],
   "source": [
    "plt.figure(figsize=(12, 6))\n",
    "plt.title('Clusters')\n",
    "plt.bar(genres, counts, color = np.random.rand(5, 3));"
   ]
  },
  {
   "cell_type": "markdown",
   "metadata": {},
   "source": [
    "Мы разбили исполнителей на 5 кластеров. Попытаемся отнести эти кластеры, к определенным жанрам, проанализировав какие исполнители к каким кластерам относятся."
   ]
  },
  {
   "cell_type": "code",
   "execution_count": 105,
   "metadata": {},
   "outputs": [],
   "source": [
    "artists = ratings.T.columns"
   ]
  },
  {
   "cell_type": "code",
   "execution_count": 113,
   "metadata": {
    "scrolled": false
   },
   "outputs": [
    {
     "data": {
      "text/plain": [
       "Index(['metallica', 'tool', 'afi', 'the ramones', 'the misfits',\n",
       "       'alkaline trio', 'iron maiden', 'against me!', 'alice in chains',\n",
       "       'marilyn manson', 'the offspring', 'black sabbath', 'bad religion',\n",
       "       'megadeth', 'rancid', 'nofx', 'black flag', 'dropkick murphys',\n",
       "       'slayer', 'descendents', 'dead kennedys', 'reel big fish',\n",
       "       'less than jake', 'converge', 'opeth', 'in flames', 'mastodon',\n",
       "       'nirvana*', 'judas priest', 'dëthkløk', 'primus', 'bad brains',\n",
       "       'pantera', 'minor threat', 'operation ivy', 'ozzy osbourne',\n",
       "       'streetlight manifesto', 'jawbreaker', 'cob', 'the pogues',\n",
       "       'rob zombie', 'motörhead', 'lamb of god', 'faith no more',\n",
       "       'comeback kid', 'dragonforce', 'the aquabats!', 'amon amarth',\n",
       "       'anti-flag', 'social distortion', 'mxpx', 'blind guardian',\n",
       "       'the glaslight anthem', 'the buzzcocks', 'mc chris', 'death',\n",
       "       'hot water music', 'me first and the gimme gimmes', 'sonata arctica1',\n",
       "       'the black dahlia murder', 'the cramps', 'the melvins',\n",
       "       'the bouncing souls', 'the stooges', 'iced eatrth', 'mötley crüe',\n",
       "       'static-x', 'arch enemy', 'goldfinger', 'the lawrence arms', 'kamelot',\n",
       "       'the mighty mighty bosstones', 'bomb the music industry!', 'danzig',\n",
       "       'the dead milkmen', 'ceremony', 'pelican', 'five iron frenzy',\n",
       "       'ministry', 'catch 22', 'tiger army', 'big d and the kids table',\n",
       "       'dimmu borgir', 'propagandhi', 'lifetime', 'fear factory',\n",
       "       'dillinger four', 'cannibal corpse', 'the sex pistols',\n",
       "       'screeching weasel', 'refused', 'municipal waste', 'agalloch',\n",
       "       'meshuggah'],\n",
       "      dtype='object')"
      ]
     },
     "execution_count": 113,
     "metadata": {},
     "output_type": "execute_result"
    }
   ],
   "source": [
    "artists[clusters == 0]"
   ]
  },
  {
   "cell_type": "markdown",
   "metadata": {},
   "source": [
    "Данный кластер можно отнести к классическому року."
   ]
  },
  {
   "cell_type": "code",
   "execution_count": 114,
   "metadata": {},
   "outputs": [
    {
     "data": {
      "text/plain": [
       "Index(['greenday', 'blink-182', '‌linkin park', 'incubus', 'fall out boy',\n",
       "       'brand new', 'foo fighters', 'jimmy eat world', 'system of a down',\n",
       "       'paramore',\n",
       "       ...\n",
       "       'straylight run', 'from autumn to ashes', 'bring me the horizon',\n",
       "       'hawthorne heights', 'secondhand serenade', 'finger eleven',\n",
       "       'daphne loves derby', 'norma jean', 'plus-44', 'yellowcard'],\n",
       "      dtype='object', length=129)"
      ]
     },
     "execution_count": 114,
     "metadata": {},
     "output_type": "execute_result"
    }
   ],
   "source": [
    "artists[clusters == 1]"
   ]
  },
  {
   "cell_type": "markdown",
   "metadata": {},
   "source": [
    "Данный кластер можно отнести к жанру альтернативный рок."
   ]
  },
  {
   "cell_type": "code",
   "execution_count": 115,
   "metadata": {},
   "outputs": [
    {
     "data": {
      "text/plain": [
       "Index(['kanye west', '￼beastie boys', 'lil' wayne', 'jay-z', 'ratm', 'eminem',\n",
       "       'miles davis.', 'outkast', 'マイケル・ジャクソン', 'bob marley',\n",
       "       ...\n",
       "       'groove armada', 'wale', 'sly & the family stone', 'cunninlynguists',\n",
       "       'destinys child', 'chamillionaire', 'the cinematic orchestra',\n",
       "       'flo rida', 'curtis mayfield', 'lamb'],\n",
       "      dtype='object', length=152)"
      ]
     },
     "execution_count": 115,
     "metadata": {},
     "output_type": "execute_result"
    }
   ],
   "source": [
    "artists[clusters == 2]"
   ]
  },
  {
   "cell_type": "markdown",
   "metadata": {},
   "source": [
    "Данный кластер можно отнести к жанру хип-хоп."
   ]
  },
  {
   "cell_type": "code",
   "execution_count": 116,
   "metadata": {
    "scrolled": true
   },
   "outputs": [
    {
     "data": {
      "text/plain": [
       "Index(['radiohead', 'deathcab for cutie', 'modest mouse', 'sufjan stevens',\n",
       "       'dylan. bob', 'niИ', 'the shins', 'elliotte smith', 'beck',\n",
       "       'divid bowie',\n",
       "       ...\n",
       "       'passion pit', 'the breeders', 'freezepop', 'thhe raveonettes',\n",
       "       'coconut records', 'rocky votolato', 'kaki king', 'sun kil moon',\n",
       "       'townes van zandt', '群星'],\n",
       "      dtype='object', length=350)"
      ]
     },
     "execution_count": 116,
     "metadata": {},
     "output_type": "execute_result"
    }
   ],
   "source": [
    "artists[clusters == 3]"
   ]
  },
  {
   "cell_type": "markdown",
   "metadata": {},
   "source": [
    "Данные музыкальные артисты исполняют музыку в стиле рок, однако, она является менее агрессивной, поэтому условно отнесем этот кластер к жанру инди."
   ]
  },
  {
   "cell_type": "code",
   "execution_count": 117,
   "metadata": {},
   "outputs": [
    {
     "data": {
      "text/plain": [
       "Index(['the beatles', 'coldplay', 'red hot clili peppers', 'pink fluid',\n",
       "       'led zeppelin.', 'the killers', 'the rolling stones', 'johnson jack',\n",
       "       'johnny clash', 'queen',\n",
       "       ...\n",
       "       'the bee gees', 'miley cyrus', 'rachael yamagata', 'daughtry',\n",
       "       'blind melon', 'the quitters', 'old 97s', 'thomas newman', 'jewel',\n",
       "       'michal w. smith'],\n",
       "      dtype='object', length=275)"
      ]
     },
     "execution_count": 117,
     "metadata": {},
     "output_type": "execute_result"
    }
   ],
   "source": [
    "artists[clusters == 4]"
   ]
  },
  {
   "cell_type": "markdown",
   "metadata": {},
   "source": [
    "Можно заметить, что в данном кластере присутствует много очень известных рок-исполнителей, таких как \"coldplay\", \"led zeppelin\", \"queen\" и др., а также присутствуют поп-исполнители, например \"miley cyrus\". Возможно, данный кластер можно условно отнести к жанру поп, т.к. данных рок-исполнители являются всемирно известными, и большая часть любителей поп-музыки, также слушает этих исполнителей."
   ]
  },
  {
   "cell_type": "markdown",
   "metadata": {
    "id": "uZk0MMMUqiYM"
   },
   "source": [
    "Выведем центроиды кластеров."
   ]
  },
  {
   "cell_type": "code",
   "execution_count": 146,
   "metadata": {},
   "outputs": [
    {
     "data": {
      "text/plain": [
       "(5, 5000)"
      ]
     },
     "execution_count": 146,
     "metadata": {},
     "output_type": "execute_result"
    }
   ],
   "source": [
    "k_means.cluster_centers_.shape"
   ]
  },
  {
   "cell_type": "code",
   "execution_count": 145,
   "metadata": {
    "id": "6mBQ-C1Bqmm3"
   },
   "outputs": [
    {
     "name": "stdout",
     "output_type": "stream",
     "text": [
      "[[ 7.59503389e-04  1.27348182e-03  9.78982470e-04 ...  1.94935896e-04\n",
      "   7.22370076e-04 -4.33680869e-19]\n",
      " [ 2.46048543e-03  2.16840434e-19  7.90975832e-04 ...  5.60200580e-04\n",
      "   1.92299083e-03  6.99804690e-04]\n",
      " [ 3.20806447e-03  7.31705300e-04  1.79476697e-04 ...  2.16840434e-19\n",
      "   4.27989105e-04 -6.50521303e-19]\n",
      " [ 6.30603589e-04  1.86091014e-03  2.44517640e-03 ...  4.24564499e-06\n",
      "   3.06986857e-03  4.30291012e-03]\n",
      " [ 1.55884018e-03  1.16676846e-03  1.37717729e-03 ...  6.25111721e-03\n",
      "   0.00000000e+00  1.10240025e-03]]\n"
     ]
    }
   ],
   "source": [
    "centers = k_means.cluster_centers_\n",
    "print(centers)"
   ]
  },
  {
   "cell_type": "markdown",
   "metadata": {},
   "source": [
    "Как и ожидалось мы получили 5 центров кластеров, каждый из которых находится в пространстве размерности 5000. Отобразить данные кластеры визуально (в 2D или 3D) довольно затруднительно. Тем не менее мы можем найти исполнителей наиболее близких к центрам кластеров, чтобы с более точной уверенностью определить музыкальные жанры, к которым они относятся. Будем анализировать топ-10 исполнителей, наиболее близких к центру каждого кластера."
   ]
  },
  {
   "cell_type": "code",
   "execution_count": 184,
   "metadata": {
    "scrolled": true
   },
   "outputs": [
    {
     "data": {
      "text/plain": [
       "iron maiden       0.952224\n",
       "rancid            0.952953\n",
       "slayer            0.953612\n",
       "descendents       0.955453\n",
       "metallica         0.957092\n",
       "against me!       0.958393\n",
       "the misfits       0.958890\n",
       "nofx              0.959329\n",
       "bad religion      0.959636\n",
       "less than jake    0.960951\n",
       "dtype: float64"
      ]
     },
     "execution_count": 184,
     "metadata": {},
     "output_type": "execute_result"
    }
   ],
   "source": [
    "np.sqrt((np.square(ratings.iloc[np.where(clusters == 0)[0]] - centers[0])).sum(axis = 1)).sort_values().head(10)"
   ]
  },
  {
   "cell_type": "markdown",
   "metadata": {},
   "source": [
    "Учитывая топ-10 исполнителей наиболее близких к центру кластера 0, можно сказать, что его логичнее отнести к жанру \"Metal\"."
   ]
  },
  {
   "cell_type": "code",
   "execution_count": 185,
   "metadata": {},
   "outputs": [
    {
     "data": {
      "text/plain": [
       "fall out boy          0.932564\n",
       "saosin                0.940279\n",
       "taking back sunday    0.941083\n",
       "brand new             0.942770\n",
       "chiodos               0.944068\n",
       "the used              0.945248\n",
       "blink-182             0.945293\n",
       "cartel                0.946615\n",
       "underoath             0.948598\n",
       "paramore              0.948988\n",
       "dtype: float64"
      ]
     },
     "execution_count": 185,
     "metadata": {},
     "output_type": "execute_result"
    }
   ],
   "source": [
    "np.sqrt((np.square(ratings.iloc[np.where(clusters == 1)[0]] - centers[1])).sum(axis = 1)).sort_values().head(10)"
   ]
  },
  {
   "cell_type": "markdown",
   "metadata": {},
   "source": [
    "Учитывая топ-10 исполнителей наиболее близких к центру кластера 1, можно сказать, что его логичнее отнести к жанру \"Punk Rock\"."
   ]
  },
  {
   "cell_type": "code",
   "execution_count": 186,
   "metadata": {},
   "outputs": [
    {
     "data": {
      "text/plain": [
       "nas                             0.931941\n",
       "jay-z                           0.935696\n",
       "kanye west                      0.937740\n",
       "a tribe called quest            0.941785\n",
       "the roots featuring d'angelo    0.945100\n",
       "lupe the gorilla                0.952447\n",
       "mos def                         0.952853\n",
       "gangstarr                       0.956878\n",
       "de la soul                      0.956966\n",
       "little brother                  0.958254\n",
       "dtype: float64"
      ]
     },
     "execution_count": 186,
     "metadata": {},
     "output_type": "execute_result"
    }
   ],
   "source": [
    "np.sqrt((np.square(ratings.iloc[np.where(clusters == 2)[0]] - centers[2])).sum(axis = 1)).sort_values().head(10)"
   ]
  },
  {
   "cell_type": "markdown",
   "metadata": {},
   "source": [
    "Учитывая топ-10 исполнителей наиболее близких к центру кластера 2, можно сказать, что его логичнее отнести к жанру \"Hip-Hop\"."
   ]
  },
  {
   "cell_type": "code",
   "execution_count": 188,
   "metadata": {},
   "outputs": [
    {
     "data": {
      "text/plain": [
       "radiohead              0.946287\n",
       "the arcade fire        0.954176\n",
       "belle and sebastian    0.957978\n",
       "sufjan stevens         0.958841\n",
       "broken social scene    0.958891\n",
       "animal collective      0.959322\n",
       "the shins              0.960179\n",
       "the pixies             0.962073\n",
       "of montreal            0.963682\n",
       "modest mouse           0.964026\n",
       "dtype: float64"
      ]
     },
     "execution_count": 188,
     "metadata": {},
     "output_type": "execute_result"
    }
   ],
   "source": [
    "np.sqrt((np.square(ratings.iloc[np.where(clusters == 3)[0]] - centers[3])).sum(axis = 1)).sort_values().head(10)"
   ]
  },
  {
   "cell_type": "markdown",
   "metadata": {},
   "source": [
    "Учитывая топ-10 исполнителей наиболее близких к центру кластера 3, можно сказать, что его логичнее отнести к жанру \"Indie\"."
   ]
  },
  {
   "cell_type": "code",
   "execution_count": 189,
   "metadata": {},
   "outputs": [
    {
     "data": {
      "text/plain": [
       "the beatles       0.962918\n",
       "coldplay          0.966046\n",
       "john mayer        0.970873\n",
       "the killers       0.972083\n",
       "maroon5           0.972279\n",
       "u2                0.972828\n",
       "led zeppelin.     0.973190\n",
       "kelly clarkson    0.973644\n",
       "johnson jack      0.974304\n",
       "counting crows    0.974607\n",
       "dtype: float64"
      ]
     },
     "execution_count": 189,
     "metadata": {},
     "output_type": "execute_result"
    }
   ],
   "source": [
    "np.sqrt((np.square(ratings.iloc[np.where(clusters == 4)[0]] - centers[4])).sum(axis = 1)).sort_values().head(10)"
   ]
  },
  {
   "cell_type": "markdown",
   "metadata": {},
   "source": [
    "Учитывая топ-10 исполнителей наиболее близких к центру кластера 4, можно сказать, что его логичнее отнести к жанру \"Pop Rock\"."
   ]
  },
  {
   "cell_type": "markdown",
   "metadata": {
    "id": "fk8TRHInqv_j"
   },
   "source": [
    "#### Вывод"
   ]
  },
  {
   "cell_type": "code",
   "execution_count": 195,
   "metadata": {},
   "outputs": [],
   "source": [
    "from sklearn.metrics import silhouette_score"
   ]
  },
  {
   "cell_type": "code",
   "execution_count": 193,
   "metadata": {},
   "outputs": [
    {
     "name": "stdout",
     "output_type": "stream",
     "text": [
      "Silhouette score: 0.007006585122623189\n"
     ]
    }
   ],
   "source": [
    "print('Silhouette score:', silhouette_score(ratings, clusters))"
   ]
  },
  {
   "cell_type": "code",
   "execution_count": 197,
   "metadata": {},
   "outputs": [
    {
     "data": {
      "image/png": "[encoded data removed]",
      "text/plain": [
       "<Figure size 864x432 with 1 Axes>"
      ]
     },
     "metadata": {
      "needs_background": "light"
     },
     "output_type": "display_data"
    }
   ],
   "source": [
    "genre_names = ['Metal', 'Punk Rock', 'Hip-Hop', 'Indie', 'Pop Rock']\n",
    "\n",
    "plt.figure(figsize=(12, 6))\n",
    "plt.title('Clusters')\n",
    "plt.bar(genre_names, counts, color = np.random.rand(5, 3));"
   ]
  },
  {
   "cell_type": "markdown",
   "metadata": {},
   "source": [
    "Получили значение метрики близкое к нулю, но тем не менее само значение положительное. Данная метрика может принимать значения от -1 до 1. Отрицательные значения говорят нам о неверном разбиении на кластеры, значения близкие к единице, говорят о практически идеальном разбиении, а значения близкие к 0 о перекрывающихся кластерах.\n",
    "\n",
    "В нашем случае можно говорить о том, что исполнители не попали в неверные кластеры, т.к. значения метрик положительные. При этом сами кластеры пересекаются, что тоже неудивительно, т.к. сама музыка в настоящее время может содержать элементы из разных жанров. К тому же для самой кластеризации мы использовали данные о прослушиваниях, а как известно, люди зачастую слушают музыку разных направлений, и в зависимости от настроения отдают большее предпочтение тому или иному стилю музыки.\n",
    "\n",
    "В целом, для решения данной задачи можно говорить об удовлетворительном качестве модели."
   ]
  }
 ],
 "metadata": {
  "colab": {
   "provenance": []
  },
  "kernelspec": {
   "display_name": "Python 3 (ipykernel)",
   "language": "python",
   "name": "python3"
  },
  "language_info": {
   "codemirror_mode": {
    "name": "ipython",
    "version": 3
   },
   "file_extension": ".py",
   "mimetype": "text/x-python",
   "name": "python",
   "nbconvert_exporter": "python",
   "pygments_lexer": "ipython3",
   "version": "3.9.12"
  }
 },
 "nbformat": 4,
 "nbformat_minor": 1
}
